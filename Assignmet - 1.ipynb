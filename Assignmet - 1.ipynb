{
 "cells": [
  {
   "cell_type": "code",
   "execution_count": null,
   "id": "ee3a30e0-b084-44ec-be36-9cfb7cc7fb3e",
   "metadata": {},
   "outputs": [],
   "source": [
    "#Q1. Create one variable containing following type of data:\n"
   ]
  },
  {
   "cell_type": "code",
   "execution_count": 1,
   "id": "99b259cf-a191-446b-871f-bccb094374bb",
   "metadata": {},
   "outputs": [],
   "source": [
    "a ='satish'"
   ]
  },
  {
   "cell_type": "code",
   "execution_count": 2,
   "id": "7b185540-284c-4fbe-b48c-c684de84705c",
   "metadata": {},
   "outputs": [
    {
     "data": {
      "text/plain": [
       "str"
      ]
     },
     "execution_count": 2,
     "metadata": {},
     "output_type": "execute_result"
    }
   ],
   "source": [
    "type(a)"
   ]
  },
  {
   "cell_type": "code",
   "execution_count": null,
   "id": "27cc6214-257c-4d72-b5e3-94e567fa3b10",
   "metadata": {},
   "outputs": [],
   "source": [
    "#Q2. Given are some following variables containing data:\n"
   ]
  },
  {
   "cell_type": "code",
   "execution_count": 4,
   "id": "ed3cfec6-7991-4e30-9d01-fa2340b99077",
   "metadata": {},
   "outputs": [],
   "source": [
    "var1 =''\n",
    "var2 ='[DS,ML,Python]'\n",
    "var3 = ['DS','ML','Python']\n",
    "var4 = 1."
   ]
  },
  {
   "cell_type": "code",
   "execution_count": 6,
   "id": "d44cfbf1-d078-4a2b-8fcb-7fde761ef9d5",
   "metadata": {},
   "outputs": [
    {
     "data": {
      "text/plain": [
       "str"
      ]
     },
     "execution_count": 6,
     "metadata": {},
     "output_type": "execute_result"
    }
   ],
   "source": [
    "type(var1)"
   ]
  },
  {
   "cell_type": "code",
   "execution_count": 7,
   "id": "c8d6af54-e1ba-4e22-97fc-cd4a357c1059",
   "metadata": {},
   "outputs": [
    {
     "data": {
      "text/plain": [
       "str"
      ]
     },
     "execution_count": 7,
     "metadata": {},
     "output_type": "execute_result"
    }
   ],
   "source": [
    "type(var2)\n"
   ]
  },
  {
   "cell_type": "code",
   "execution_count": 9,
   "id": "933ede93-200b-4c68-bf0e-cee665d70549",
   "metadata": {},
   "outputs": [
    {
     "data": {
      "text/plain": [
       "list"
      ]
     },
     "execution_count": 9,
     "metadata": {},
     "output_type": "execute_result"
    }
   ],
   "source": [
    "type(var3)"
   ]
  },
  {
   "cell_type": "code",
   "execution_count": 8,
   "id": "36339ccd-9aeb-47a4-b5c7-46146c3c96a9",
   "metadata": {},
   "outputs": [
    {
     "data": {
      "text/plain": [
       "float"
      ]
     },
     "execution_count": 8,
     "metadata": {},
     "output_type": "execute_result"
    }
   ],
   "source": [
    "type(var4)"
   ]
  },
  {
   "cell_type": "code",
   "execution_count": null,
   "id": "3d9caa87-c044-4197-b1be-723de64a851e",
   "metadata": {},
   "outputs": [],
   "source": [
    "#Q3. Explain the use of the following operators using an example:\n"
   ]
  },
  {
   "cell_type": "code",
   "execution_count": null,
   "id": "5ff75ad6-cf91-4c53-b040-ec974cca37ac",
   "metadata": {},
   "outputs": [],
   "source": [
    "'''\n",
    "(i) / (Division) (x / y)\n",
    "Divides the number on its left by the number on its right and returns a floating point value.\n",
    "\n",
    "(ii) % (Modulus) (x /y)\n",
    "It returns the remainder of dividing the left hand operand by right hand operand\n",
    "\n",
    "(iii) // (Floor division) (x // y)\n",
    "Divides the number on its left by the number on its right, rounds down the answer, and returns a whole number.\n",
    "\n",
    "(iv) ** (Exponentiation) (x ** y)\n",
    "Given two real number operands, one on each side of the operator, it performs the exponential calculation ( 2**5 translates to 2*2*2*2*2\n",
    "'''\n"
   ]
  },
  {
   "cell_type": "code",
   "execution_count": null,
   "id": "7008e2c2-41d0-45ea-afde-cfe1df3c226d",
   "metadata": {},
   "outputs": [],
   "source": [
    "'''Q4. Create a list of length 10 of your choice containing multiple types of data. Using for loop print the\n",
    "element and its data type."
   ]
  },
  {
   "cell_type": "code",
   "execution_count": 23,
   "id": "b57419bb-07b1-4d98-b8c2-3c465221daa5",
   "metadata": {},
   "outputs": [],
   "source": [
    "b = [3,2.5,True,2+8j,'satish','vemula',(2,3,4),{'name':'satish'},[2,3,4],{2,3,4}]"
   ]
  },
  {
   "cell_type": "code",
   "execution_count": 24,
   "id": "60d8c490-4c5d-4d9a-8810-f8c817c407bb",
   "metadata": {},
   "outputs": [
    {
     "data": {
      "text/plain": [
       "10"
      ]
     },
     "execution_count": 24,
     "metadata": {},
     "output_type": "execute_result"
    }
   ],
   "source": [
    "len(b)"
   ]
  },
  {
   "cell_type": "code",
   "execution_count": 25,
   "id": "1c39ea97-8b4f-4401-b4d6-afdc3ccb7ccb",
   "metadata": {},
   "outputs": [
    {
     "name": "stdout",
     "output_type": "stream",
     "text": [
      "3\n",
      "<class 'int'>\n",
      "2.5\n",
      "<class 'float'>\n",
      "True\n",
      "<class 'bool'>\n",
      "(2+8j)\n",
      "<class 'complex'>\n",
      "satish\n",
      "<class 'str'>\n",
      "vemula\n",
      "<class 'str'>\n",
      "(2, 3, 4)\n",
      "<class 'tuple'>\n",
      "{'name': 'satish'}\n",
      "<class 'dict'>\n",
      "[2, 3, 4]\n",
      "<class 'list'>\n",
      "{2, 3, 4}\n",
      "<class 'set'>\n"
     ]
    }
   ],
   "source": [
    "for i in b:\n",
    "    print(i)\n",
    "    print(type(i))"
   ]
  },
  {
   "cell_type": "code",
   "execution_count": null,
   "id": "dac959f9-509e-4e88-b662-7b269c52c80f",
   "metadata": {},
   "outputs": [],
   "source": [
    "'''Q5. Using a while loop, verify if the number A is purely divisible by number B and if so then how many\n",
    "times it can be divisible."
   ]
  },
  {
   "cell_type": "code",
   "execution_count": null,
   "id": "aa68ff66-b834-40a1-b185-ba25adb76ce3",
   "metadata": {},
   "outputs": [],
   "source": [
    "A = int(input())\n",
    "B = int(input())\n",
    "counts = 0\n",
    "while A % B == 0:\n",
    "     counts = counts +1\n",
    "    \n",
    "print(counts)"
   ]
  },
  {
   "cell_type": "code",
   "execution_count": null,
   "id": "3868040a-ccf7-4e43-9774-8e9c92b87b53",
   "metadata": {},
   "outputs": [],
   "source": [
    "'''Q6. Create a list containing 25 int type data. Using for loop and if-else condition print if the element is\n",
    "divisible by 3 or not."
   ]
  },
  {
   "cell_type": "code",
   "execution_count": 26,
   "id": "464221cf-c7ee-469d-a0ab-2a9212e55673",
   "metadata": {},
   "outputs": [],
   "source": [
    "c = [1,2,3,4,5,6,7,8,9,10,11,12,13,14,15,16,17,18,19,20,21,22,23,24,25]"
   ]
  },
  {
   "cell_type": "code",
   "execution_count": 45,
   "id": "8bb6b244-3e79-47dc-8d18-1395477e2708",
   "metadata": {},
   "outputs": [],
   "source": [
    "divisible_3 = []\n",
    "for i in c:\n",
    "    if i % 3:\n",
    "        divisible_3.append(i)"
   ]
  },
  {
   "cell_type": "code",
   "execution_count": 46,
   "id": "ce530142-597c-43d9-b8d0-d28366c613bc",
   "metadata": {},
   "outputs": [
    {
     "data": {
      "text/plain": [
       "[1, 2, 4, 5, 7, 8, 10, 11, 13, 14, 16, 17, 19, 20, 22, 23, 25]"
      ]
     },
     "execution_count": 46,
     "metadata": {},
     "output_type": "execute_result"
    }
   ],
   "source": [
    "divisible_3"
   ]
  },
  {
   "cell_type": "code",
   "execution_count": null,
   "id": "783ea764-fa74-4a3d-bfc4-c0a6d5d9374a",
   "metadata": {},
   "outputs": [],
   "source": [
    "'''Q7. What do you understand about mutable and immutable data types? Give examples for both showing\n",
    "this property."
   ]
  },
  {
   "cell_type": "code",
   "execution_count": null,
   "id": "bfa241d7-47ec-4c02-9ea9-124d805fd99e",
   "metadata": {},
   "outputs": [],
   "source": [
    "'''\n",
    "Ans : Mutable objects are allow to change the value and immutabel object are not allow to change the value\n",
    "example for Mutable :- list, set, dict\n",
    "example for imutable:- int, str, bool,float,tuple"
   ]
  },
  {
   "cell_type": "code",
   "execution_count": 49,
   "id": "c1198db4-3251-4f7f-81f9-877a176a2d91",
   "metadata": {},
   "outputs": [
    {
     "name": "stdout",
     "output_type": "stream",
     "text": [
      "(1, 2, 3, 4)\n"
     ]
    },
    {
     "ename": "TypeError",
     "evalue": "'tuple' object does not support item assignment",
     "output_type": "error",
     "traceback": [
      "\u001b[0;31m---------------------------------------------------------------------------\u001b[0m",
      "\u001b[0;31mTypeError\u001b[0m                                 Traceback (most recent call last)",
      "Cell \u001b[0;32mIn[49], line 3\u001b[0m\n\u001b[1;32m      1\u001b[0m tuple1 \u001b[38;5;241m=\u001b[39m (\u001b[38;5;241m1\u001b[39m,\u001b[38;5;241m2\u001b[39m,\u001b[38;5;241m3\u001b[39m,\u001b[38;5;241m4\u001b[39m)\n\u001b[1;32m      2\u001b[0m \u001b[38;5;28mprint\u001b[39m(a)\n\u001b[0;32m----> 3\u001b[0m \u001b[43mtuple1\u001b[49m\u001b[43m[\u001b[49m\u001b[38;5;241;43m0\u001b[39;49m\u001b[43m]\u001b[49m \u001b[38;5;241m=\u001b[39m \u001b[38;5;241m4\u001b[39m\n",
      "\u001b[0;31mTypeError\u001b[0m: 'tuple' object does not support item assignment"
     ]
    }
   ],
   "source": [
    "tuple1 = (1,2,3,4)\n",
    "print(a)\n",
    "tuple1[0] = 4"
   ]
  },
  {
   "cell_type": "code",
   "execution_count": 65,
   "id": "fd2c7769-55b2-4ec3-a05d-039c5d1393dc",
   "metadata": {},
   "outputs": [
    {
     "name": "stdout",
     "output_type": "stream",
     "text": [
      "[1, 2, 3, 4]\n"
     ]
    }
   ],
   "source": [
    "list1 = [1,2,3,4]\n",
    "print(list1)\n"
   ]
  },
  {
   "cell_type": "code",
   "execution_count": 66,
   "id": "2e157678-1d18-4f4c-bc93-6eacec85291c",
   "metadata": {},
   "outputs": [],
   "source": [
    "list1.append(9)"
   ]
  },
  {
   "cell_type": "code",
   "execution_count": 67,
   "id": "3ac79969-fdd8-48e9-a756-793d57008436",
   "metadata": {},
   "outputs": [
    {
     "data": {
      "text/plain": [
       "[1, 2, 3, 4, 9]"
      ]
     },
     "execution_count": 67,
     "metadata": {},
     "output_type": "execute_result"
    }
   ],
   "source": [
    "list1"
   ]
  }
 ],
 "metadata": {
  "kernelspec": {
   "display_name": "Python 3 (ipykernel)",
   "language": "python",
   "name": "python3"
  },
  "language_info": {
   "codemirror_mode": {
    "name": "ipython",
    "version": 3
   },
   "file_extension": ".py",
   "mimetype": "text/x-python",
   "name": "python",
   "nbconvert_exporter": "python",
   "pygments_lexer": "ipython3",
   "version": "3.10.8"
  }
 },
 "nbformat": 4,
 "nbformat_minor": 5
}
